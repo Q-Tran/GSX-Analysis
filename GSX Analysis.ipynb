{
 "cells": [
  {
   "cell_type": "code",
   "execution_count": 1,
   "metadata": {},
   "outputs": [],
   "source": [
    "from glob import glob\n",
    "import json\n",
    "import os\n",
    "import pandas as pd\n",
    "import tarfile\n",
    "import zlib"
   ]
  },
  {
   "cell_type": "code",
   "execution_count": 4,
   "metadata": {},
   "outputs": [],
   "source": [
    "df_array = []\n",
    "for fname in os.listdir():\n",
    "    if '.' not in fname:\n",
    "        for json_file in os.listdir(fname):\n",
    "            if json_file == 'all.json':\n",
    "                df_array.append(pd.read_json(os.getcwd() + '\\\\' + fname + '\\\\' + json_file))"
   ]
  },
  {
   "cell_type": "code",
   "execution_count": 5,
   "metadata": {},
   "outputs": [
    {
     "data": {
      "text/plain": [
       "{'avatar': 'https://imgs.genshuixue.com/371881076_957mp4kg.jpeg',\n",
       " 'end_type': 0,\n",
       " 'group': 5146928,\n",
       " 'id': '269768462',\n",
       " 'joinTime': 1588763355,\n",
       " 'name': '用户608031298',\n",
       " 'number': '0',\n",
       " 'status': 0,\n",
       " 'type': 0}"
      ]
     },
     "execution_count": 5,
     "metadata": {},
     "output_type": "execute_result"
    }
   ],
   "source": [
    "pd.set_option('display.max_columns', None)\n",
    "df_array[21]['from'].iloc[519]"
   ]
  },
  {
   "cell_type": "code",
   "execution_count": 7,
   "metadata": {},
   "outputs": [],
   "source": [
    "test = df_array[3].apply(pd.to_numeric, errors='coerce')\n",
    "test = test['from'].dropna"
   ]
  },
  {
   "cell_type": "code",
   "execution_count": 8,
   "metadata": {},
   "outputs": [
    {
     "data": {
      "text/plain": [
       "True"
      ]
     },
     "execution_count": 8,
     "metadata": {},
     "output_type": "execute_result"
    }
   ],
   "source": [
    "'avatar' in df_array[20]['from'].iloc[519]"
   ]
  },
  {
   "cell_type": "code",
   "execution_count": 9,
   "metadata": {},
   "outputs": [],
   "source": [
    "d = {'names': names, 'images': images, 'ids': ids, 'joinTimes': jointimes}"
   ]
  },
  {
   "cell_type": "code",
   "execution_count": 10,
   "metadata": {},
   "outputs": [],
   "source": [
    "df = pd.DataFrame(d)"
   ]
  },
  {
   "cell_type": "code",
   "execution_count": 11,
   "metadata": {},
   "outputs": [],
   "source": [
    "df = df.drop_duplicates()"
   ]
  },
  {
   "cell_type": "code",
   "execution_count": 12,
   "metadata": {},
   "outputs": [
    {
     "data": {
      "text/html": [
       "<div>\n",
       "<style scoped>\n",
       "    .dataframe tbody tr th:only-of-type {\n",
       "        vertical-align: middle;\n",
       "    }\n",
       "\n",
       "    .dataframe tbody tr th {\n",
       "        vertical-align: top;\n",
       "    }\n",
       "\n",
       "    .dataframe thead th {\n",
       "        text-align: right;\n",
       "    }\n",
       "</style>\n",
       "<table border=\"1\" class=\"dataframe\">\n",
       "  <thead>\n",
       "    <tr style=\"text-align: right;\">\n",
       "      <th></th>\n",
       "      <th>names</th>\n",
       "      <th>images</th>\n",
       "      <th>ids</th>\n",
       "      <th>joinTimes</th>\n",
       "    </tr>\n",
       "  </thead>\n",
       "  <tbody>\n",
       "    <tr>\n",
       "      <th>0</th>\n",
       "      <td>小羊肖恩</td>\n",
       "      <td>https://imgs.genshuixue.com/226379948_e49mt054...</td>\n",
       "      <td>40072162</td>\n",
       "      <td>1582628826</td>\n",
       "    </tr>\n",
       "    <tr>\n",
       "      <th>1</th>\n",
       "      <td>【工作号】 July</td>\n",
       "      <td>https://imgs.genshuixue.com/151869491_7ra4k9kz...</td>\n",
       "      <td>40079059</td>\n",
       "      <td>1582630738</td>\n",
       "    </tr>\n",
       "    <tr>\n",
       "      <th>2</th>\n",
       "      <td>肖恩老师</td>\n",
       "      <td>https://imgs.genshuixue.com/248434299_fvv47cdi...</td>\n",
       "      <td>40078096</td>\n",
       "      <td>0</td>\n",
       "    </tr>\n",
       "    <tr>\n",
       "      <th>3</th>\n",
       "      <td>用户356889108</td>\n",
       "      <td>https://img.gsxservice.com/headpic_sexless.jpg</td>\n",
       "      <td>40080280</td>\n",
       "      <td>0</td>\n",
       "    </tr>\n",
       "    <tr>\n",
       "      <th>4</th>\n",
       "      <td>肖恩老师</td>\n",
       "      <td>https://imgs.genshuixue.com/248434299_fvv47cdi...</td>\n",
       "      <td>40081300</td>\n",
       "      <td>0</td>\n",
       "    </tr>\n",
       "    <tr>\n",
       "      <th>...</th>\n",
       "      <td>...</td>\n",
       "      <td>...</td>\n",
       "      <td>...</td>\n",
       "      <td>...</td>\n",
       "    </tr>\n",
       "    <tr>\n",
       "      <th>153399</th>\n",
       "      <td>我爱学习！</td>\n",
       "      <td>https://imgs.genshuixue.com/412566518_jof67id1...</td>\n",
       "      <td>39449576</td>\n",
       "      <td>1590148593</td>\n",
       "    </tr>\n",
       "    <tr>\n",
       "      <th>153400</th>\n",
       "      <td>蓝天白云</td>\n",
       "      <td>https://imgs.genshuixue.com/101945385_68xt185e...</td>\n",
       "      <td>39536099</td>\n",
       "      <td>1590152321</td>\n",
       "    </tr>\n",
       "    <tr>\n",
       "      <th>153401</th>\n",
       "      <td>用户632618848</td>\n",
       "      <td>https://img.gsxservice.com/headpic_sexless.jpg</td>\n",
       "      <td>39535394</td>\n",
       "      <td>1590152257</td>\n",
       "    </tr>\n",
       "    <tr>\n",
       "      <th>153405</th>\n",
       "      <td>Y.</td>\n",
       "      <td>https://i.gsxcdn.com/416204420_eff65dhq.jpeg</td>\n",
       "      <td>39519854</td>\n",
       "      <td>0</td>\n",
       "    </tr>\n",
       "    <tr>\n",
       "      <th>153412</th>\n",
       "      <td>用户813003058</td>\n",
       "      <td>https://img.gsxservice.com/headpic_sexless.jpg</td>\n",
       "      <td>39536660</td>\n",
       "      <td>1590152372</td>\n",
       "    </tr>\n",
       "  </tbody>\n",
       "</table>\n",
       "<p>56773 rows × 4 columns</p>\n",
       "</div>"
      ],
      "text/plain": [
       "              names                                             images  \\\n",
       "0              小羊肖恩  https://imgs.genshuixue.com/226379948_e49mt054...   \n",
       "1        【工作号】 July  https://imgs.genshuixue.com/151869491_7ra4k9kz...   \n",
       "2              肖恩老师  https://imgs.genshuixue.com/248434299_fvv47cdi...   \n",
       "3       用户356889108     https://img.gsxservice.com/headpic_sexless.jpg   \n",
       "4              肖恩老师  https://imgs.genshuixue.com/248434299_fvv47cdi...   \n",
       "...             ...                                                ...   \n",
       "153399        我爱学习！  https://imgs.genshuixue.com/412566518_jof67id1...   \n",
       "153400         蓝天白云  https://imgs.genshuixue.com/101945385_68xt185e...   \n",
       "153401  用户632618848     https://img.gsxservice.com/headpic_sexless.jpg   \n",
       "153405           Y.       https://i.gsxcdn.com/416204420_eff65dhq.jpeg   \n",
       "153412  用户813003058     https://img.gsxservice.com/headpic_sexless.jpg   \n",
       "\n",
       "             ids   joinTimes  \n",
       "0       40072162  1582628826  \n",
       "1       40079059  1582630738  \n",
       "2       40078096           0  \n",
       "3       40080280           0  \n",
       "4       40081300           0  \n",
       "...          ...         ...  \n",
       "153399  39449576  1590148593  \n",
       "153400  39536099  1590152321  \n",
       "153401  39535394  1590152257  \n",
       "153405  39519854           0  \n",
       "153412  39536660  1590152372  \n",
       "\n",
       "[56773 rows x 4 columns]"
      ]
     },
     "execution_count": 12,
     "metadata": {},
     "output_type": "execute_result"
    }
   ],
   "source": [
    "df"
   ]
  },
  {
   "cell_type": "code",
   "execution_count": 18,
   "metadata": {},
   "outputs": [
    {
     "data": {
      "text/plain": [
       "<matplotlib.axes._subplots.AxesSubplot at 0x1e2898fcd08>"
      ]
     },
     "execution_count": 18,
     "metadata": {},
     "output_type": "execute_result"
    },
    {
     "data": {
      "image/png": "[encoded data removed]",
      "text/plain": [
       "<Figure size 432x288 with 1 Axes>"
      ]
     },
     "metadata": {
      "needs_background": "light"
     },
     "output_type": "display_data"
    }
   ],
   "source": [
    "df['joinTimes'].hist()"
   ]
  },
  {
   "cell_type": "code",
   "execution_count": 20,
   "metadata": {},
   "outputs": [
    {
     "data": {
      "text/plain": [
       "0         1582628826\n",
       "1         1582630738\n",
       "5         1582631393\n",
       "6         1582631467\n",
       "7         1582631475\n",
       "             ...    \n",
       "153390    1590152174\n",
       "153399    1590148593\n",
       "153400    1590152321\n",
       "153401    1590152257\n",
       "153412    1590152372\n",
       "Name: joinTimes, Length: 11811, dtype: int64"
      ]
     },
     "execution_count": 20,
     "metadata": {},
     "output_type": "execute_result"
    }
   ],
   "source": [
    "df[(df != 0).all(1)]['joinTimes']"
   ]
  },
  {
   "cell_type": "code",
   "execution_count": 21,
   "metadata": {},
   "outputs": [
    {
     "data": {
      "text/plain": [
       "<matplotlib.axes._subplots.AxesSubplot at 0x1e28c7ef508>"
      ]
     },
     "execution_count": 21,
     "metadata": {},
     "output_type": "execute_result"
    },
    {
     "data": {
      "image/png": "[encoded data removed]",
      "text/plain": [
       "<Figure size 432x288 with 1 Axes>"
      ]
     },
     "metadata": {
      "needs_background": "light"
     },
     "output_type": "display_data"
    }
   ],
   "source": [
    "df[(df != 0).all(1)]['joinTimes'].hist()"
   ]
  },
  {
   "cell_type": "code",
   "execution_count": null,
   "metadata": {},
   "outputs": [],
   "source": []
  }
 ],
 "metadata": {
  "kernelspec": {
   "display_name": "Python 3",
   "language": "python",
   "name": "python3"
  },
  "language_info": {
   "codemirror_mode": {
    "name": "ipython",
    "version": 3
   },
   "file_extension": ".py",
   "mimetype": "text/x-python",
   "name": "python",
   "nbconvert_exporter": "python",
   "pygments_lexer": "ipython3",
   "version": "3.7.6"
  }
 },
 "nbformat": 4,
 "nbformat_minor": 4
}
